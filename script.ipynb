{
  "cells": [
    {
      "cell_type": "markdown",
      "source": [
        "# ***Import Dependencies & Load Dataset***\n",
        "\n",
        "---\n",
        "\n"
      ],
      "metadata": {
        "id": "UhNTJyaZcR03"
      },
      "id": "UhNTJyaZcR03"
    },
    {
      "cell_type": "code",
      "execution_count": 1,
      "id": "65414d2c",
      "metadata": {
        "id": "65414d2c"
      },
      "outputs": [],
      "source": [
        "import pandas as pd\n",
        "import torch"
      ]
    },
    {
      "cell_type": "code",
      "execution_count": 2,
      "id": "4b30259d",
      "metadata": {
        "id": "4b30259d"
      },
      "outputs": [],
      "source": [
        "# Load the car reviews dataset\n",
        "file_path = \"car_reviews.csv\"\n",
        "df = pd.read_csv(file_path, delimiter=\";\")"
      ]
    },
    {
      "cell_type": "code",
      "execution_count": 3,
      "id": "cdd34415",
      "metadata": {
        "id": "cdd34415"
      },
      "outputs": [],
      "source": [
        "# Put the car reviews and their associated sentiment labels in two lists\n",
        "reviews = df['Review'].tolist()\n",
        "real_labels = df['Class'].tolist()"
      ]
    },
    {
      "cell_type": "markdown",
      "source": [
        "# ***1: Sentiment Classification***\n",
        "\n",
        "---\n",
        "\n"
      ],
      "metadata": {
        "id": "ZnQvfywUaBI1"
      },
      "id": "ZnQvfywUaBI1"
    },
    {
      "cell_type": "code",
      "execution_count": 30,
      "id": "0c3a2c62",
      "metadata": {
        "colab": {
          "base_uri": "https://localhost:8080/"
        },
        "id": "0c3a2c62",
        "outputId": "5dd11324-1618-4e5d-aaf7-be76421600b2"
      },
      "outputs": [
        {
          "output_type": "stream",
          "name": "stderr",
          "text": [
            "Device set to use cpu\n"
          ]
        }
      ],
      "source": [
        "# Load a sentiment analysis LLM into a pipeline\n",
        "from transformers import pipeline\n",
        "classifier = pipeline('sentiment-analysis', model='distilbert-base-uncased-finetuned-sst-2-english')\n"
      ]
    },
    {
      "cell_type": "code",
      "execution_count": 5,
      "id": "19e72cce",
      "metadata": {
        "colab": {
          "base_uri": "https://localhost:8080/"
        },
        "id": "19e72cce",
        "outputId": "70c93af9-95de-4ed7-e541-515cc892e84f"
      },
      "outputs": [
        {
          "output_type": "stream",
          "name": "stdout",
          "text": [
            "Review: I am very satisfied with my 2014 Nissan NV SL. I use this van for my business deliveries and personal use. Camping, road trips, etc. We dont have any children so I store most of the seats in my warehouse. I wanted the passenger van for the rear air conditioning. We drove our van from Florida to California for a Cross Country trip in 2014. We averaged about 18 mpg. We drove thru a lot of rain and It was a very comfortable and stable vehicle. The V8 Nissan Titan engine is a 500k mile engine. It has been tested many times by delivery and trucking companies. This is why Nissan gives you a 5 year or 100k mile bumper to bumper warranty. Many people are scared about driving this van because of its size. But with front and rear sonar sensors, large mirrors and the back up camera. It is easy to drive. The front and rear sensors also monitor the front and rear sides of the bumpers making it easier to park close to objects. Our Nissan NV is a Tow Monster. It pulls our 5000 pound travel trailer like its not even there. I have plenty of power to pass a vehicle if needed. The 5.6 liter engine produces 317 hp. I have owned Chevy and Ford vans and there were not very comfortable and had little cockpit room. The Nissan NV is the only vehicle made that has the engine forward like a pick up truck giving the driver plenty of room and comfort in the cockpit area. I dont have any negatives to say about my NV. This is a wide vehicle. The only modification I would like to see from Nissan is for them to add amber side mirror marker lights.BTW. I now own a 2016 Nissan NVP SL. Love it.\n",
            "Actual Sentiment: POSITIVE\n",
            "Predicted Sentiment: POSITIVE (Confidence: 0.9294)\n",
            "\n",
            "Review: The car is fine. It's a bit loud and not very powerful. On one hand, compared to its peers, the interior is well-built. The transmission failed a few years ago, and the dealer replaced it under warranty with no issues. Now, about 60k miles later, the transmission is failing again. It sounds like a truck, and the issues are well-documented. The dealer tells me it is normal, refusing to do anything to resolve the issue. After owning the car for 4 years, there are many other vehicles I would purchase over this one. Initially, I really liked what the brand is about: ride quality, reliability, etc. But I will not purchase another one. Despite these concerns, I must say, the level of comfort in the car has always been satisfactory, but not worth the rest of issues found.\n",
            "Actual Sentiment: NEGATIVE\n",
            "Predicted Sentiment: POSITIVE (Confidence: 0.8654)\n",
            "\n",
            "Review: My first foreign car. Love it, I would buy another.\n",
            "Actual Sentiment: POSITIVE\n",
            "Predicted Sentiment: POSITIVE (Confidence: 0.9995)\n",
            "\n",
            "Review: I've come across numerous reviews praising the Rogue, and I genuinely feel like I might be missing something. It's only been a week since I got the car, and I am genuinely disappointed. I truly wish I could return it. My main concern revolves around what I see as a significant design flaw (which I believe also exists in the Murano, though that wasn't much better and considerably pricier). The rear windshield is just too small. The headrests in the back seat obstruct the sides of the rearview window. This \"Crossover\" feels more like a cheaply made compact car. My other vehicle is a Sonata, and it provides a significantly quieter and smoother ride. I did not anticipate this car to ride so roughly; my 2006 Pathfinder had a smoother ride! I would rate this car a 5 all around.\n",
            "Actual Sentiment: NEGATIVE\n",
            "Predicted Sentiment: NEGATIVE (Confidence: 0.9935)\n",
            "\n",
            "Review: I've been dreaming of owning an SUV for quite a while, but I've been driving cars that were already paid for during an extended period. I ultimately made the decision to transition to a brand-new car, which, of course, involved taking on new payments. However, given that I don't drive extensively, I was inclined to avoid a substantial financial commitment. The Nissan Rogue provides me with the desired SUV experience without burdening me with an exorbitant payment; the financial arrangement is quite reasonable. Handling and styling are great; I have hauled 12 bags of mulch in the back with the seats down and could have held more. I am VERY satisfied overall. I find myself needing to exercise extra caution when making lane changes, particularly owing to the blind spots resulting from the small side windows situated towards the rear of the vehicle. To address this concern, I am actively engaged in making adjustments to my mirrors and consciously reducing the frequency of lane changes. The engine delivers strong performance, and the ride is really smooth.\n",
            "Actual Sentiment: POSITIVE\n",
            "Predicted Sentiment: POSITIVE (Confidence: 0.9987)\n",
            "\n"
          ]
        }
      ],
      "source": [
        "# Perform inference on the car reviews and display prediction results\n",
        "predicted_labels = classifier(reviews)\n",
        "for review, prediction, label in zip(reviews, predicted_labels, real_labels):\n",
        "    print(f\"Review: {review}\\nActual Sentiment: {label}\\nPredicted Sentiment: {prediction['label']} (Confidence: {prediction['score']:.4f})\\n\")"
      ]
    },
    {
      "cell_type": "code",
      "source": [
        "# Install dependencies\n",
        "!pip install evaluate datasets"
      ],
      "metadata": {
        "colab": {
          "base_uri": "https://localhost:8080/"
        },
        "collapsed": true,
        "id": "O13Q20_UbjM0",
        "outputId": "2d3f746b-dd14-4445-b914-6bd20a7e2879"
      },
      "id": "O13Q20_UbjM0",
      "execution_count": 29,
      "outputs": [
        {
          "output_type": "stream",
          "name": "stdout",
          "text": [
            "Requirement already satisfied: evaluate in /usr/local/lib/python3.11/dist-packages (0.4.3)\n",
            "Requirement already satisfied: datasets in /usr/local/lib/python3.11/dist-packages (3.4.0)\n",
            "Requirement already satisfied: numpy>=1.17 in /usr/local/lib/python3.11/dist-packages (from evaluate) (1.26.4)\n",
            "Requirement already satisfied: dill in /usr/local/lib/python3.11/dist-packages (from evaluate) (0.3.8)\n",
            "Requirement already satisfied: pandas in /usr/local/lib/python3.11/dist-packages (from evaluate) (2.2.2)\n",
            "Requirement already satisfied: requests>=2.19.0 in /usr/local/lib/python3.11/dist-packages (from evaluate) (2.32.3)\n",
            "Requirement already satisfied: tqdm>=4.62.1 in /usr/local/lib/python3.11/dist-packages (from evaluate) (4.67.1)\n",
            "Requirement already satisfied: xxhash in /usr/local/lib/python3.11/dist-packages (from evaluate) (3.5.0)\n",
            "Requirement already satisfied: multiprocess in /usr/local/lib/python3.11/dist-packages (from evaluate) (0.70.16)\n",
            "Requirement already satisfied: fsspec>=2021.05.0 in /usr/local/lib/python3.11/dist-packages (from fsspec[http]>=2021.05.0->evaluate) (2024.10.0)\n",
            "Requirement already satisfied: huggingface-hub>=0.7.0 in /usr/local/lib/python3.11/dist-packages (from evaluate) (0.28.1)\n",
            "Requirement already satisfied: packaging in /usr/local/lib/python3.11/dist-packages (from evaluate) (24.2)\n",
            "Requirement already satisfied: filelock in /usr/local/lib/python3.11/dist-packages (from datasets) (3.17.0)\n",
            "Requirement already satisfied: pyarrow>=15.0.0 in /usr/local/lib/python3.11/dist-packages (from datasets) (18.1.0)\n",
            "Requirement already satisfied: aiohttp in /usr/local/lib/python3.11/dist-packages (from datasets) (3.11.13)\n",
            "Requirement already satisfied: pyyaml>=5.1 in /usr/local/lib/python3.11/dist-packages (from datasets) (6.0.2)\n",
            "Requirement already satisfied: aiohappyeyeballs>=2.3.0 in /usr/local/lib/python3.11/dist-packages (from aiohttp->datasets) (2.6.1)\n",
            "Requirement already satisfied: aiosignal>=1.1.2 in /usr/local/lib/python3.11/dist-packages (from aiohttp->datasets) (1.3.2)\n",
            "Requirement already satisfied: attrs>=17.3.0 in /usr/local/lib/python3.11/dist-packages (from aiohttp->datasets) (25.2.0)\n",
            "Requirement already satisfied: frozenlist>=1.1.1 in /usr/local/lib/python3.11/dist-packages (from aiohttp->datasets) (1.5.0)\n",
            "Requirement already satisfied: multidict<7.0,>=4.5 in /usr/local/lib/python3.11/dist-packages (from aiohttp->datasets) (6.1.0)\n",
            "Requirement already satisfied: propcache>=0.2.0 in /usr/local/lib/python3.11/dist-packages (from aiohttp->datasets) (0.3.0)\n",
            "Requirement already satisfied: yarl<2.0,>=1.17.0 in /usr/local/lib/python3.11/dist-packages (from aiohttp->datasets) (1.18.3)\n",
            "Requirement already satisfied: typing-extensions>=3.7.4.3 in /usr/local/lib/python3.11/dist-packages (from huggingface-hub>=0.7.0->evaluate) (4.12.2)\n",
            "Requirement already satisfied: charset-normalizer<4,>=2 in /usr/local/lib/python3.11/dist-packages (from requests>=2.19.0->evaluate) (3.4.1)\n",
            "Requirement already satisfied: idna<4,>=2.5 in /usr/local/lib/python3.11/dist-packages (from requests>=2.19.0->evaluate) (3.10)\n",
            "Requirement already satisfied: urllib3<3,>=1.21.1 in /usr/local/lib/python3.11/dist-packages (from requests>=2.19.0->evaluate) (2.3.0)\n",
            "Requirement already satisfied: certifi>=2017.4.17 in /usr/local/lib/python3.11/dist-packages (from requests>=2.19.0->evaluate) (2025.1.31)\n",
            "Requirement already satisfied: python-dateutil>=2.8.2 in /usr/local/lib/python3.11/dist-packages (from pandas->evaluate) (2.8.2)\n",
            "Requirement already satisfied: pytz>=2020.1 in /usr/local/lib/python3.11/dist-packages (from pandas->evaluate) (2025.1)\n",
            "Requirement already satisfied: tzdata>=2022.7 in /usr/local/lib/python3.11/dist-packages (from pandas->evaluate) (2025.1)\n",
            "Requirement already satisfied: six>=1.5 in /usr/local/lib/python3.11/dist-packages (from python-dateutil>=2.8.2->pandas->evaluate) (1.17.0)\n"
          ]
        }
      ]
    },
    {
      "cell_type": "code",
      "execution_count": 28,
      "id": "c6ca4074",
      "metadata": {
        "id": "c6ca4074"
      },
      "outputs": [],
      "source": [
        "# Load accuracy and F1 score metrics\n",
        "import evaluate\n",
        "accuracy = evaluate.load(\"accuracy\")\n",
        "f1 = evaluate.load(\"f1\")"
      ]
    },
    {
      "cell_type": "code",
      "execution_count": 10,
      "id": "748306fd",
      "metadata": {
        "id": "748306fd"
      },
      "outputs": [],
      "source": [
        "# Map categorical sentiment labels into integer labels\n",
        "references = [1 if label == \"POSITIVE\" else 0 for label in real_labels]\n",
        "predictions = [1 if label['label'] == \"POSITIVE\" else 0 for label in predicted_labels]"
      ]
    },
    {
      "cell_type": "code",
      "execution_count": 11,
      "id": "54c652fe",
      "metadata": {
        "colab": {
          "base_uri": "https://localhost:8080/"
        },
        "id": "54c652fe",
        "outputId": "322cf7b7-feb5-435f-fee2-fd48879bc691"
      },
      "outputs": [
        {
          "output_type": "stream",
          "name": "stdout",
          "text": [
            "Accuracy: 0.8\n",
            "F1 result: 0.8571428571428571\n"
          ]
        }
      ],
      "source": [
        "# Calculate accuracy and F1 score\n",
        "accuracy_result_dict = accuracy.compute(references=references, predictions=predictions)\n",
        "accuracy_result = accuracy_result_dict['accuracy']\n",
        "f1_result_dict = f1.compute(references=references, predictions=predictions)\n",
        "f1_result = f1_result_dict['f1']\n",
        "print(f\"Accuracy: {accuracy_result}\")\n",
        "print(f\"F1 result: {f1_result}\")"
      ]
    },
    {
      "cell_type": "markdown",
      "source": [
        "# ***2: Translation***\n",
        "---\n",
        "\n",
        "\n"
      ],
      "metadata": {
        "id": "C0Rpa9C6aH08"
      },
      "id": "C0Rpa9C6aH08"
    },
    {
      "cell_type": "code",
      "execution_count": 26,
      "id": "cc088583",
      "metadata": {
        "colab": {
          "base_uri": "https://localhost:8080/"
        },
        "id": "cc088583",
        "outputId": "38dc5eab-de4c-4a59-f375-526962a56dc4"
      },
      "outputs": [
        {
          "output_type": "stream",
          "name": "stderr",
          "text": [
            "Device set to use cpu\n",
            "Your input_length: 365 is bigger than 0.9 * max_length: 27. You might consider increasing your max_length manually, e.g. translator('...', max_length=400)\n"
          ]
        },
        {
          "output_type": "stream",
          "name": "stdout",
          "text": [
            "Model translation:\n",
            "Estoy muy satisfecho con mi 2014 Nissan NV SL. Uso esta furgoneta para mis entregas de negocios y uso personal.\n"
          ]
        }
      ],
      "source": [
        "# Load translation LLM into a pipeline and translate car review\n",
        "first_review = reviews[0]\n",
        "translator = pipeline(\"translation\", model=\"Helsinki-NLP/opus-mt-en-es\")\n",
        "translated_review = translator(first_review, max_length=27)[0]['translation_text']\n",
        "print(f\"Model translation:\\n{translated_review}\")"
      ]
    },
    {
      "cell_type": "code",
      "execution_count": 14,
      "id": "896607e2",
      "metadata": {
        "colab": {
          "base_uri": "https://localhost:8080/"
        },
        "id": "896607e2",
        "outputId": "a14e8280-0350-48b1-e53d-0937df5f80db"
      },
      "outputs": [
        {
          "output_type": "stream",
          "name": "stdout",
          "text": [
            "Spanish translation references:\n",
            "['Estoy muy satisfecho con mi Nissan NV SL 2014. Utilizo esta camioneta para mis entregas comerciales y uso personal.', 'Estoy muy satisfecho con mi Nissan NV SL 2014. Uso esta furgoneta para mis entregas comerciales y uso personal.']\n"
          ]
        }
      ],
      "source": [
        "# Load reference translations from file\n",
        "with open(\"reference_translations.txt\", 'r') as file:\n",
        "    lines = file.readlines()\n",
        "references = [line.strip() for line in lines]\n",
        "print(f\"Spanish translation references:\\n{references}\")"
      ]
    },
    {
      "cell_type": "code",
      "execution_count": 25,
      "id": "f3bfa831",
      "metadata": {
        "colab": {
          "base_uri": "https://localhost:8080/"
        },
        "id": "f3bfa831",
        "outputId": "711c05da-1cfe-4d6d-81c8-51882eb87c8d"
      },
      "outputs": [
        {
          "output_type": "stream",
          "name": "stdout",
          "text": [
            "0.6022774485691839\n"
          ]
        }
      ],
      "source": [
        "# Load and calculate BLEU score metric\n",
        "bleu = evaluate.load(\"bleu\")\n",
        "bleu_score = bleu.compute(predictions=[translated_review], references=[references])\n",
        "print(bleu_score['bleu'])"
      ]
    },
    {
      "cell_type": "markdown",
      "source": [
        "# ***3: Extractive QA***\n",
        "\n",
        "---\n",
        "\n"
      ],
      "metadata": {
        "id": "3sA1K5r7an3c"
      },
      "id": "3sA1K5r7an3c"
    },
    {
      "cell_type": "code",
      "execution_count": 16,
      "id": "a9d3ef34",
      "metadata": {
        "id": "a9d3ef34"
      },
      "outputs": [],
      "source": [
        "# Import auto classes (optional: can be solved via pipelines too)\n",
        "from transformers import AutoTokenizer\n",
        "from transformers import AutoModelForQuestionAnswering"
      ]
    },
    {
      "cell_type": "code",
      "execution_count": 24,
      "id": "42725c28",
      "metadata": {
        "colab": {
          "base_uri": "https://localhost:8080/"
        },
        "id": "42725c28",
        "outputId": "252cf770-47fa-4a86-a48c-c3ad0916d7ad"
      },
      "outputs": [
        {
          "output_type": "stream",
          "name": "stderr",
          "text": [
            "Some weights of the model checkpoint at deepset/minilm-uncased-squad2 were not used when initializing BertForQuestionAnswering: ['bert.pooler.dense.bias', 'bert.pooler.dense.weight']\n",
            "- This IS expected if you are initializing BertForQuestionAnswering from the checkpoint of a model trained on another task or with another architecture (e.g. initializing a BertForSequenceClassification model from a BertForPreTraining model).\n",
            "- This IS NOT expected if you are initializing BertForQuestionAnswering from the checkpoint of a model that you expect to be exactly identical (initializing a BertForSequenceClassification model from a BertForSequenceClassification model).\n"
          ]
        }
      ],
      "source": [
        "# Instantiate model and tokenizer\n",
        "model_ckp = \"deepset/minilm-uncased-squad2\"\n",
        "tokenizer = AutoTokenizer.from_pretrained(model_ckp)\n",
        "model = AutoModelForQuestionAnswering.from_pretrained(model_ckp)"
      ]
    },
    {
      "cell_type": "code",
      "execution_count": 18,
      "id": "46b533d6",
      "metadata": {
        "colab": {
          "base_uri": "https://localhost:8080/"
        },
        "id": "46b533d6",
        "outputId": "f553a988-b52f-4919-cc95-41cff0228e3b"
      },
      "outputs": [
        {
          "output_type": "stream",
          "name": "stdout",
          "text": [
            "Context:\n",
            "The car is fine. It's a bit loud and not very powerful. On one hand, compared to its peers, the interior is well-built. The transmission failed a few years ago, and the dealer replaced it under warranty with no issues. Now, about 60k miles later, the transmission is failing again. It sounds like a truck, and the issues are well-documented. The dealer tells me it is normal, refusing to do anything to resolve the issue. After owning the car for 4 years, there are many other vehicles I would purchase over this one. Initially, I really liked what the brand is about: ride quality, reliability, etc. But I will not purchase another one. Despite these concerns, I must say, the level of comfort in the car has always been satisfactory, but not worth the rest of issues found.\n"
          ]
        }
      ],
      "source": [
        "# Define context and question, and tokenize them\n",
        "context = reviews[1]\n",
        "print(f\"Context:\\n{context}\")\n",
        "question = \"What did he like about the brand?\"\n",
        "inputs = tokenizer(question, context, return_tensors=\"pt\")"
      ]
    },
    {
      "cell_type": "code",
      "execution_count": 19,
      "id": "53e5c84a",
      "metadata": {
        "id": "53e5c84a"
      },
      "outputs": [],
      "source": [
        "# Perform inference and extract answer from raw outputs\n",
        "with torch.no_grad():\n",
        "  outputs = model(**inputs)\n",
        "start_idx = torch.argmax(outputs.start_logits)\n",
        "end_idx = torch.argmax(outputs.end_logits) + 1\n",
        "answer_span = inputs[\"input_ids\"][0][start_idx:end_idx]"
      ]
    },
    {
      "cell_type": "code",
      "execution_count": 20,
      "id": "ef9bed54",
      "metadata": {
        "colab": {
          "base_uri": "https://localhost:8080/"
        },
        "id": "ef9bed54",
        "outputId": "1cc3887d-4ab4-488b-b098-f4ac1ad0a862"
      },
      "outputs": [
        {
          "output_type": "stream",
          "name": "stdout",
          "text": [
            "Answer:  ride quality, reliability\n"
          ]
        }
      ],
      "source": [
        "# Decode and show answer\n",
        "answer = tokenizer.decode(answer_span)\n",
        "print(\"Answer: \", answer)"
      ]
    },
    {
      "cell_type": "markdown",
      "source": [
        "# ***4: Summarization***\n",
        "\n",
        "---\n",
        "\n"
      ],
      "metadata": {
        "id": "nV-HVYdEa0a7"
      },
      "id": "nV-HVYdEa0a7"
    },
    {
      "cell_type": "code",
      "execution_count": 21,
      "id": "8f6b971f",
      "metadata": {
        "colab": {
          "base_uri": "https://localhost:8080/"
        },
        "id": "8f6b971f",
        "outputId": "85fccf8c-80ec-4c22-d28c-a63723447394"
      },
      "outputs": [
        {
          "output_type": "stream",
          "name": "stdout",
          "text": [
            "Original text:\n",
            "I've been dreaming of owning an SUV for quite a while, but I've been driving cars that were already paid for during an extended period. I ultimately made the decision to transition to a brand-new car, which, of course, involved taking on new payments. However, given that I don't drive extensively, I was inclined to avoid a substantial financial commitment. The Nissan Rogue provides me with the desired SUV experience without burdening me with an exorbitant payment; the financial arrangement is quite reasonable. Handling and styling are great; I have hauled 12 bags of mulch in the back with the seats down and could have held more. I am VERY satisfied overall. I find myself needing to exercise extra caution when making lane changes, particularly owing to the blind spots resulting from the small side windows situated towards the rear of the vehicle. To address this concern, I am actively engaged in making adjustments to my mirrors and consciously reducing the frequency of lane changes. The engine delivers strong performance, and the ride is really smooth.\n"
          ]
        }
      ],
      "source": [
        "# Get original text to summarize upon car review\n",
        "text_to_summarize = reviews[-1]\n",
        "print(f\"Original text:\\n{text_to_summarize}\")"
      ]
    },
    {
      "cell_type": "code",
      "execution_count": 23,
      "id": "c4fbdf61",
      "metadata": {
        "colab": {
          "base_uri": "https://localhost:8080/"
        },
        "id": "c4fbdf61",
        "outputId": "87b0b83c-c422-4549-c131-ca84e4ce00cf"
      },
      "outputs": [
        {
          "output_type": "stream",
          "name": "stderr",
          "text": [
            "Device set to use cpu\n"
          ]
        },
        {
          "output_type": "stream",
          "name": "stdout",
          "text": [
            "Summarized text:\n",
            "the Nissan Rogue provides me with the desired SUV experience without burdening me with an exorbitant payment; the financial arrangement is quite reasonable. I have hauled 12 bags of mulch in the back with the seats down and could have held more.\n"
          ]
        }
      ],
      "source": [
        "# Load summarization pipeline and perform inference\n",
        "model_name = \"cnicu/t5-small-booksum\"\n",
        "summarizer = pipeline(\"summarization\", model=model_name)\n",
        "outputs = summarizer(text_to_summarize, max_length=53)\n",
        "summarized_text = outputs[0]['summary_text']\n",
        "print(f\"Summarized text:\\n{summarized_text}\")"
      ]
    },
    {
      "cell_type": "code",
      "execution_count": null,
      "id": "d3dd9413",
      "metadata": {
        "id": "d3dd9413"
      },
      "outputs": [],
      "source": []
    }
  ],
  "metadata": {
    "kernelspec": {
      "display_name": "Python 3 (ipykernel)",
      "language": "python",
      "name": "python3"
    },
    "language_info": {
      "codemirror_mode": {
        "name": "ipython",
        "version": 3
      },
      "file_extension": ".py",
      "mimetype": "text/x-python",
      "name": "python",
      "nbconvert_exporter": "python",
      "pygments_lexer": "ipython3",
      "version": "3.11.7"
    },
    "colab": {
      "provenance": [],
      "collapsed_sections": [
        "ZnQvfywUaBI1"
      ]
    }
  },
  "nbformat": 4,
  "nbformat_minor": 5
}